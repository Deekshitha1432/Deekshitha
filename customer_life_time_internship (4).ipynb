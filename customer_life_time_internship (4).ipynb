{
  "cells": [
    {
      "cell_type": "code",
      "execution_count": 1146,
      "metadata": {
        "id": "KJHCLPe8KVev"
      },
      "outputs": [],
      "source": [
        "import numpy as np     #importing necessary libraries\n",
        "import pandas as pd"
      ]
    },
    {
      "cell_type": "code",
      "execution_count": 1147,
      "metadata": {
        "id": "_NU-ta74azoW"
      },
      "outputs": [],
      "source": [
        "na_vals=[\"N/a\",\"na\",np.nan,\"?\",\"NA\"]\n"
      ]
    },
    {
      "cell_type": "code",
      "execution_count": null,
      "metadata": {
        "id": "9aIDtUx6KwH2"
      },
      "outputs": [],
      "source": [
        "data=pd.read_csv('/content/cltv.csv',na_values=na_vals)  # Reading the data by importing csv file"
      ]
    },
    {
      "cell_type": "code",
      "execution_count": null,
      "metadata": {
        "id": "yp3amUbgK7bQ"
      },
      "outputs": [],
      "source": [
        "data.head(10)   #Reading the first 10 rows of the dataset"
      ]
    },
    {
      "cell_type": "code",
      "execution_count": null,
      "metadata": {
        "id": "BLYPB-zaLEp6"
      },
      "outputs": [],
      "source": [
        "data.info()         "
      ]
    },
    {
      "cell_type": "code",
      "execution_count": null,
      "metadata": {
        "id": "xmtcvU51L-BL"
      },
      "outputs": [],
      "source": [
        "data.isna().sum()   #Finding is there any null values are present in the dataset"
      ]
    },
    {
      "cell_type": "markdown",
      "metadata": {
        "id": "ouBMGYXbRHWb"
      },
      "source": [
        "So, Null values are present in the Dataset, for filling the null vlaues in the categorical variables used Mode imputation method and for Numerical variables used Median imputation."
      ]
    },
    {
      "cell_type": "markdown",
      "metadata": {
        "id": "gLsm8mdiRGHJ"
      },
      "source": []
    },
    {
      "cell_type": "code",
      "execution_count": null,
      "metadata": {
        "id": "4ZTpgWPrQCpk"
      },
      "outputs": [],
      "source": [
        "numericalcolumns_n=[]                  #seperating the numerical and categorical columns \n",
        "categoricalcolumns_c=[]\n",
        "for i in data.columns:\n",
        "  if data[i].dtypes==object:\n",
        "    categoricalcolumns_c.append(i)\n",
        "  else:\n",
        "    numericalcolumns_n.append(i) "
      ]
    },
    {
      "cell_type": "code",
      "execution_count": null,
      "metadata": {
        "id": "Dcdbap_eSj8k"
      },
      "outputs": [],
      "source": [
        "numericalcolumns_n"
      ]
    },
    {
      "cell_type": "code",
      "execution_count": null,
      "metadata": {
        "id": "RI1z2xKQTgFb"
      },
      "outputs": [],
      "source": [
        "data[numericalcolumns_n].isna().sum()    # Finding null values only for numerical columns"
      ]
    },
    {
      "cell_type": "code",
      "execution_count": null,
      "metadata": {
        "id": "RJbSPL0-qT9b"
      },
      "outputs": [],
      "source": [
        "data[categoricalcolumns_c].isna().sum()   # Finding null values only for categorical columns"
      ]
    },
    {
      "cell_type": "code",
      "execution_count": null,
      "metadata": {
        "id": "UEy34lzVpxOj"
      },
      "outputs": [],
      "source": [
        "for col in categoricalcolumns_c:                                  #reading value counts for categorical columns\n",
        "    print(\"Value counts for column {}:\".format(col))\n",
        "    print(data[col].value_counts())\n",
        "    print(\"\\n\")"
      ]
    },
    {
      "cell_type": "markdown",
      "metadata": {
        "id": "YFTFSHfpX-6s"
      },
      "source": [
        "#Filling null values in Numerical variables with Median"
      ]
    },
    {
      "cell_type": "code",
      "execution_count": null,
      "metadata": {
        "id": "d5n24_P5U8T2"
      },
      "outputs": [],
      "source": [
        "median_A = data['Monthly.Premium.Auto'].median()\n",
        "median_B = data['Number.of.Open.Complaints'].median()\n",
        "median_C = data['Number.of.Policies'].median()\n",
        "median_D = data['Vehicle.Size'].median()\n",
        "median_E = data['Income'].median()\n",
        "data['Monthly.Premium.Auto'] = data['Monthly.Premium.Auto'].fillna(median_A)\n",
        "data['Number.of.Open.Complaints'] = data['Number.of.Open.Complaints'].fillna(median_B)\n",
        "data['Number.of.Policies'] = data['Number.of.Policies'].fillna(median_C)\n",
        "data['Vehicle.Size'] = data['Vehicle.Size'].fillna(median_D)\n",
        "data['Income']=data['Income'].fillna(median_E)\n"
      ]
    },
    {
      "cell_type": "code",
      "execution_count": null,
      "metadata": {
        "id": "bYVBb5q_XT9Q"
      },
      "outputs": [],
      "source": [
        "data[numericalcolumns_n].isna().sum()\n"
      ]
    },
    {
      "cell_type": "code",
      "execution_count": null,
      "metadata": {
        "id": "1CIUHgDmjBJh"
      },
      "outputs": [],
      "source": [
        "data[numericalcolumns_n]"
      ]
    },
    {
      "cell_type": "code",
      "execution_count": null,
      "metadata": {
        "id": "MdbenlinjBUq"
      },
      "outputs": [],
      "source": [
        "data[numericalcolumns_n].dtypes"
      ]
    },
    {
      "cell_type": "markdown",
      "metadata": {
        "id": "bex_SPV_YIuw"
      },
      "source": [
        "#Filling Null values in Categorical variables with Mode"
      ]
    },
    {
      "cell_type": "code",
      "execution_count": null,
      "metadata": {
        "id": "7_NaMUoXYIUF"
      },
      "outputs": [],
      "source": [
        "categoricalcolumns_c"
      ]
    },
    {
      "cell_type": "code",
      "execution_count": null,
      "metadata": {
        "id": "tgiv1PhDcOe_"
      },
      "outputs": [],
      "source": [
        "# Loop over each categorical column\n",
        "for col in data.select_dtypes(include='object'):\n",
        "    # Calculate the mode of the column\n",
        "    mode_val = data[col].mode()[0]\n",
        "    # Fill null values with the mode of the column\n",
        "    data[col].fillna(mode_val, inplace=True)"
      ]
    },
    {
      "cell_type": "code",
      "execution_count": null,
      "metadata": {
        "id": "OQiS0YFNcdiS"
      },
      "outputs": [],
      "source": [
        "data[categoricalcolumns_c].isna().sum()"
      ]
    },
    {
      "cell_type": "code",
      "execution_count": null,
      "metadata": {
        "id": "7mtDhQkbgRqx"
      },
      "outputs": [],
      "source": [
        "data.isna().sum()"
      ]
    },
    {
      "cell_type": "code",
      "execution_count": null,
      "metadata": {
        "id": "yA_dE8MngqJp"
      },
      "outputs": [],
      "source": [
        "for col in categoricalcolumns_c:\n",
        "    print(\"Value counts for column {}:\".format(col))\n",
        "    print(data[col].value_counts())\n",
        "    print(\"\\n\")"
      ]
    },
    {
      "cell_type": "code",
      "execution_count": null,
      "metadata": {
        "id": "_5BynFIstTi_"
      },
      "outputs": [],
      "source": [
        "data[categoricalcolumns_c].columns"
      ]
    },
    {
      "cell_type": "code",
      "execution_count": null,
      "metadata": {
        "id": "yaO_fJ2sqpes"
      },
      "outputs": [],
      "source": [
        "# converting categorical columns as type category\n",
        "categoricalcolumns_c=data[categoricalcolumns_c].astype('category')"
      ]
    },
    {
      "cell_type": "code",
      "execution_count": null,
      "metadata": {
        "id": "1qh942bt2t5R"
      },
      "outputs": [],
      "source": [
        "data_a= np.array(categoricalcolumns_c)"
      ]
    },
    {
      "cell_type": "code",
      "execution_count": null,
      "metadata": {
        "id": "KbiY2Hvi4oOZ"
      },
      "outputs": [],
      "source": [
        "# Encode each categorical column with numerical labels\n",
        "encoded_data = []\n",
        "for col in range(data_a.shape[1]):\n",
        "    # Get unique categories in the column\n",
        "    categories = np.unique(data_a[:, col])\n",
        "    # Create a dictionary to map categories to numerical labels\n",
        "    label_map = {}\n",
        "    for i in range(len(categories)):\n",
        "        label_map[categories[i]] = i\n",
        "    # Encode the column with numerical labels\n",
        "    encoded_col = np.array([label_map[d] for d in data_a[:, col]])\n",
        "    # Add the encoded column to the list\n",
        "    encoded_data.append(encoded_col)\n",
        "\n",
        "# Convert the list of encoded columns to a 2D array\n",
        "encoded_data = np.stack(encoded_data, axis=1)\n",
        "\n",
        "# Print the encoded data\n",
        "print(encoded_data)\n"
      ]
    },
    {
      "cell_type": "code",
      "execution_count": null,
      "metadata": {
        "id": "2T8QzvoR588M"
      },
      "outputs": [],
      "source": [
        "dataframe_d = pd.DataFrame(data=encoded_data, columns=['Coverage', 'Education', 'EmploymentStatus', 'Gender', 'Location.Geo','Location.Code', 'Marital.Status', 'Policy.Type', 'Policy',\n",
        "'Renew.Offer.Type', 'Sales.Channel', 'Vehicle.Class'])"
      ]
    },
    {
      "cell_type": "code",
      "execution_count": null,
      "metadata": {
        "id": "CadhrOlN647X"
      },
      "outputs": [],
      "source": [
        "dataframe_d"
      ]
    },
    {
      "cell_type": "code",
      "execution_count": null,
      "metadata": {
        "id": "UeG8Uv-Y66pY"
      },
      "outputs": [],
      "source": [
        "dataframe_d.dtypes"
      ]
    },
    {
      "cell_type": "code",
      "execution_count": null,
      "metadata": {
        "id": "N45fQR-5iqXw"
      },
      "outputs": [],
      "source": [
        "numericalcolumns_n"
      ]
    },
    {
      "cell_type": "code",
      "execution_count": null,
      "metadata": {
        "id": "QwJWsZQNjm46"
      },
      "outputs": [],
      "source": [
        "dataframe_d"
      ]
    },
    {
      "cell_type": "code",
      "execution_count": null,
      "metadata": {
        "id": "s5Or5II1T5aQ"
      },
      "outputs": [],
      "source": [
        "data[numericalcolumns_n]"
      ]
    },
    {
      "cell_type": "code",
      "execution_count": null,
      "metadata": {
        "id": "RFvksiisVTXy"
      },
      "outputs": [],
      "source": [
        "dataconcat = pd.concat([data[numericalcolumns_n],dataframe_d],axis=1)"
      ]
    },
    {
      "cell_type": "code",
      "execution_count": null,
      "metadata": {
        "id": "3C6_4CBFW8QT"
      },
      "outputs": [],
      "source": [
        "dataconcat"
      ]
    },
    {
      "cell_type": "code",
      "execution_count": null,
      "metadata": {
        "id": "V3vb3L83gkpV"
      },
      "outputs": [],
      "source": [
        "dataconcat.describe()             "
      ]
    },
    {
      "cell_type": "markdown",
      "metadata": {
        "id": "E9Cyb0y6pD2R"
      },
      "source": [
        "# VISUALIZATION"
      ]
    },
    {
      "cell_type": "code",
      "execution_count": null,
      "metadata": {
        "id": "nkJAFjOHW_Xn"
      },
      "outputs": [],
      "source": [
        "corr= dataconcat.corr()         "
      ]
    },
    {
      "cell_type": "code",
      "execution_count": null,
      "metadata": {
        "id": "y9Jt7JckXNKA"
      },
      "outputs": [],
      "source": [
        "import seaborn as sns\n",
        "import matplotlib.pyplot as plt\n",
        "plt.figure(figsize=(15,15))\n",
        "sns.heatmap(corr,cmap='coolwarm',annot=True)\n",
        "plt.show()\n"
      ]
    },
    {
      "cell_type": "code",
      "execution_count": null,
      "metadata": {
        "id": "DeqANssFezZg"
      },
      "outputs": [],
      "source": [
        "# Select the column of data\n",
        "column_data = dataconcat['Monthly.Premium.Auto']\n",
        "\n",
        "# Create a box plot\n",
        "plt.boxplot(column_data)\n",
        "\n",
        "# Add labels and title\n",
        "plt.xlabel('Monthly.Premium.Auto')\n",
        "plt.ylabel('Customer.Lifetime.Value')\n",
        "plt.title('Box Plot of Monthly.Premium.Auto Data')\n",
        "\n",
        "# Show the plot\n",
        "plt.show()"
      ]
    },
    {
      "cell_type": "code",
      "execution_count": null,
      "metadata": {
        "id": "kEjcAgUzgLH7"
      },
      "outputs": [],
      "source": [
        "# Select the column of data\n",
        "column_data = dataconcat['Total.Claim.Amount']\n",
        "\n",
        "# Create a box plot\n",
        "plt.boxplot(column_data)\n",
        "\n",
        "# Add labels and title\n",
        "plt.xlabel('Total.Claim.Amount')\n",
        "plt.ylabel('Customer.Lifetime.Value')\n",
        "plt.title('Box Plot of Total.Claim.Amount Data')\n",
        "\n",
        "# Show the plot\n",
        "plt.show()"
      ]
    },
    {
      "cell_type": "code",
      "execution_count": null,
      "metadata": {
        "id": "qbSJUxjSJVjc"
      },
      "outputs": [],
      "source": [
        "sns.distplot(dataconcat['Total.Claim.Amount'])"
      ]
    },
    {
      "cell_type": "code",
      "execution_count": null,
      "metadata": {
        "id": "xyOxbtsx3VbI"
      },
      "outputs": [],
      "source": [
        "dataconcat['Total.Claim.Amount'].skew()"
      ]
    },
    {
      "cell_type": "code",
      "execution_count": null,
      "metadata": {
        "id": "tyKi0QeyIEkI"
      },
      "outputs": [],
      "source": [
        "sns.distplot(dataconcat['Monthly.Premium.Auto'])"
      ]
    },
    {
      "cell_type": "markdown",
      "metadata": {
        "id": "pfLEcHuQosBM"
      },
      "source": [
        "# Feature Engineering"
      ]
    },
    {
      "cell_type": "code",
      "execution_count": 1144,
      "metadata": {
        "colab": {
          "base_uri": "https://localhost:8080/"
        },
        "id": "wpqkMUEwBczD",
        "outputId": "8f2e4166-8f18-4984-b615-abe8c89eba97"
      },
      "outputs": [
        {
          "data": {
            "text/plain": [
              "['CustomerID',\n",
              " 'Customer.Lifetime.Value',\n",
              " 'Income',\n",
              " 'Monthly.Premium.Auto',\n",
              " 'Months.Since.Last.Claim',\n",
              " 'Months.Since.Policy.Inception',\n",
              " 'Number.of.Open.Complaints',\n",
              " 'Number.of.Policies',\n",
              " 'Total.Claim.Amount',\n",
              " 'Vehicle.Size']"
            ]
          },
          "execution_count": 1144,
          "metadata": {},
          "output_type": "execute_result"
        }
      ],
      "source": [
        "numericalcolumns_n"
      ]
    },
    {
      "cell_type": "markdown",
      "metadata": {
        "id": "fh4LYkGIo0f_"
      },
      "source": []
    },
    {
      "cell_type": "code",
      "execution_count": 1145,
      "metadata": {
        "colab": {
          "base_uri": "https://localhost:8080/",
          "height": 235
        },
        "id": "JjQKf-9aAUM8",
        "outputId": "795b5ffc-be67-4b81-c307-dbb0baa3f343"
      },
      "outputs": [
        {
          "ename": "NameError",
          "evalue": "ignored",
          "output_type": "error",
          "traceback": [
            "\u001b[0;31m---------------------------------------------------------------------------\u001b[0m",
            "\u001b[0;31mNameError\u001b[0m                                 Traceback (most recent call last)",
            "\u001b[0;32m<ipython-input-1145-0a7128c225ed>\u001b[0m in \u001b[0;36m<module>\u001b[0;34m\u001b[0m\n\u001b[1;32m     15\u001b[0m     \u001b[0;32mfor\u001b[0m \u001b[0mi\u001b[0m \u001b[0;32min\u001b[0m \u001b[0mrange\u001b[0m\u001b[0;34m(\u001b[0m\u001b[0mlen\u001b[0m\u001b[0;34m(\u001b[0m\u001b[0mdataconcat\u001b[0m\u001b[0;34m[\u001b[0m\u001b[0mcolumn\u001b[0m\u001b[0;34m]\u001b[0m\u001b[0;34m)\u001b[0m\u001b[0;34m)\u001b[0m\u001b[0;34m:\u001b[0m\u001b[0;34m\u001b[0m\u001b[0;34m\u001b[0m\u001b[0m\n\u001b[1;32m     16\u001b[0m         \u001b[0;32mif\u001b[0m \u001b[0mdataconcat\u001b[0m\u001b[0;34m[\u001b[0m\u001b[0mcolumn\u001b[0m\u001b[0;34m]\u001b[0m\u001b[0;34m[\u001b[0m\u001b[0mi\u001b[0m\u001b[0;34m]\u001b[0m \u001b[0;34m>\u001b[0m \u001b[0;36m0\u001b[0m\u001b[0;34m:\u001b[0m\u001b[0;34m\u001b[0m\u001b[0;34m\u001b[0m\u001b[0m\n\u001b[0;32m---> 17\u001b[0;31m             \u001b[0mdataconcat\u001b[0m\u001b[0;34m[\u001b[0m\u001b[0mcolumn\u001b[0m\u001b[0;34m]\u001b[0m\u001b[0;34m[\u001b[0m\u001b[0mi\u001b[0m\u001b[0;34m]\u001b[0m \u001b[0;34m=\u001b[0m \u001b[0mnp\u001b[0m\u001b[0;34m.\u001b[0m\u001b[0mlog\u001b[0m\u001b[0;34m(\u001b[0m\u001b[0mdatacancat\u001b[0m\u001b[0;34m[\u001b[0m\u001b[0mcolumn\u001b[0m\u001b[0;34m]\u001b[0m\u001b[0;34m[\u001b[0m\u001b[0mi\u001b[0m\u001b[0;34m]\u001b[0m\u001b[0;34m)\u001b[0m\u001b[0;34m\u001b[0m\u001b[0;34m\u001b[0m\u001b[0m\n\u001b[0m\u001b[1;32m     18\u001b[0m         \u001b[0;32melse\u001b[0m\u001b[0;34m:\u001b[0m\u001b[0;34m\u001b[0m\u001b[0;34m\u001b[0m\u001b[0m\n\u001b[1;32m     19\u001b[0m             \u001b[0mdataconcat\u001b[0m\u001b[0;34m[\u001b[0m\u001b[0mcolumn\u001b[0m\u001b[0;34m]\u001b[0m\u001b[0;34m[\u001b[0m\u001b[0mi\u001b[0m\u001b[0;34m]\u001b[0m \u001b[0;34m=\u001b[0m \u001b[0;36m0\u001b[0m\u001b[0;34m\u001b[0m\u001b[0;34m\u001b[0m\u001b[0m\n",
            "\u001b[0;31mNameError\u001b[0m: name 'datacancat' is not defined"
          ]
        }
      ],
      "source": [
        "# Create a list of columns to transform\n",
        "columns_to_transform = ['CustomerID',\n",
        " 'Customer.Lifetime.Value',\n",
        " 'Income',\n",
        " 'Monthly.Premium.Auto',\n",
        " 'Months.Since.Last.Claim',\n",
        " 'Months.Since.Policy.Inception',\n",
        " 'Number.of.Open.Complaints',\n",
        " 'Number.of.Policies',\n",
        " 'Total.Claim.Amount',\n",
        " 'Vehicle.Size']\n",
        "\n",
        "# Loop through each column and apply the log transformation\n",
        "for column in columns_to_transform:\n",
        "    for i in range(len(dataconcat[column])):\n",
        "        if dataconcat[column][i] > 0:\n",
        "            dataconcat[column][i] = np.log(datacancat[column][i])\n",
        "        else:\n",
        "            dataconcat[column][i] = 0"
      ]
    },
    {
      "cell_type": "code",
      "execution_count": null,
      "metadata": {
        "id": "obO4tLa8CYQM"
      },
      "outputs": [],
      "source": [
        "dataconcat[columns_to_transform]"
      ]
    },
    {
      "cell_type": "code",
      "execution_count": null,
      "metadata": {
        "id": "TZ4mtPrEO7ON"
      },
      "outputs": [],
      "source": [
        "dataconcat[numericalcolumns_n].isna().sum()"
      ]
    },
    {
      "cell_type": "code",
      "execution_count": null,
      "metadata": {
        "id": "gqJddyi2EF5B"
      },
      "outputs": [],
      "source": [
        "sns.distplot(dataconcat['Monthly.Premium.Auto'])"
      ]
    },
    {
      "cell_type": "code",
      "execution_count": null,
      "metadata": {
        "id": "rcg6rxHbMC64"
      },
      "outputs": [],
      "source": [
        "sns.distplot(dataconcat['Total.Claim.Amount'])"
      ]
    },
    {
      "cell_type": "code",
      "execution_count": null,
      "metadata": {
        "id": "4OSkPHf2PLn8"
      },
      "outputs": [],
      "source": [
        "dataconcat['Total.Claim.Amount.4']= dataconcat['Total.Claim.Amount']**4"
      ]
    },
    {
      "cell_type": "code",
      "execution_count": null,
      "metadata": {
        "id": "MEqRMsK__vge"
      },
      "outputs": [],
      "source": [
        "dataconcat.columns"
      ]
    },
    {
      "cell_type": "code",
      "execution_count": null,
      "metadata": {
        "id": "VIftEov6_8bz"
      },
      "outputs": [],
      "source": [
        "dataconcat['Total.Claim.Amount.4'],dataconcat['Total.Claim.Amount']"
      ]
    },
    {
      "cell_type": "code",
      "execution_count": null,
      "metadata": {
        "id": "C5TPNmS_AD1d"
      },
      "outputs": [],
      "source": [
        " 6.337725 * 6.337725* 6.337725* 6.337725"
      ]
    },
    {
      "cell_type": "code",
      "execution_count": null,
      "metadata": {
        "id": "JqqNrnyqARKG"
      },
      "outputs": [],
      "source": [
        "dataconcat.drop('Total.Claim.Amount',axis=1,inplace=True)"
      ]
    },
    {
      "cell_type": "code",
      "execution_count": null,
      "metadata": {
        "id": "qATjYTQ7SBfc"
      },
      "outputs": [],
      "source": [
        "#sns.distplot(data)"
      ]
    },
    {
      "cell_type": "code",
      "execution_count": null,
      "metadata": {
        "id": "89f7Qn6n72of"
      },
      "outputs": [],
      "source": [
        "dataconcat.skew()"
      ]
    },
    {
      "cell_type": "code",
      "execution_count": null,
      "metadata": {
        "id": "c7FLDKdSSfEL"
      },
      "outputs": [],
      "source": [
        "df_2 = dataconcat['Monthly.Premium.Auto']**2"
      ]
    },
    {
      "cell_type": "code",
      "execution_count": null,
      "metadata": {
        "id": "NE5v3xZNSrrn"
      },
      "outputs": [],
      "source": [
        "sns.distplot(df_2)"
      ]
    },
    {
      "cell_type": "code",
      "execution_count": null,
      "metadata": {
        "id": "mA2i5Z4xXpuL"
      },
      "outputs": [],
      "source": [
        "# sns.distplot(df_3)"
      ]
    },
    {
      "cell_type": "code",
      "execution_count": null,
      "metadata": {
        "id": "BzlkdnOucnrE"
      },
      "outputs": [],
      "source": [
        "dataframe_d.columns"
      ]
    },
    {
      "cell_type": "code",
      "execution_count": null,
      "metadata": {
        "id": "q-YqSnkCd5pl"
      },
      "outputs": [],
      "source": [
        "unique_counts = dataframe_d.nunique()"
      ]
    },
    {
      "cell_type": "code",
      "execution_count": null,
      "metadata": {
        "id": "34L8krNmeCqA"
      },
      "outputs": [],
      "source": [
        "unique_counts"
      ]
    },
    {
      "cell_type": "code",
      "execution_count": null,
      "metadata": {
        "id": "-FHgmOMFeE1r"
      },
      "outputs": [],
      "source": [
        "dataconcat.drop('Location.Geo',axis=1,inplace=True)"
      ]
    },
    {
      "cell_type": "code",
      "execution_count": null,
      "metadata": {
        "id": "bAyLzCFRCSpq"
      },
      "outputs": [],
      "source": [
        "dataconcat.drop('CustomerID',axis=1,inplace=True)"
      ]
    },
    {
      "cell_type": "code",
      "execution_count": null,
      "metadata": {
        "id": "ObHJZYoLCLr1"
      },
      "outputs": [],
      "source": [
        "type(numericalcolumns_n)"
      ]
    },
    {
      "cell_type": "code",
      "execution_count": null,
      "metadata": {
        "id": "nAkcIJEyCl6H"
      },
      "outputs": [],
      "source": [
        "numericalcolumns_n"
      ]
    },
    {
      "cell_type": "code",
      "execution_count": null,
      "metadata": {
        "id": "GDp9EJRBCbTS"
      },
      "outputs": [],
      "source": [
        "numericalcolumns_n.remove('CustomerID')"
      ]
    },
    {
      "cell_type": "code",
      "execution_count": null,
      "metadata": {
        "id": "JEvT39qOCwd6"
      },
      "outputs": [],
      "source": [
        "numericalcolumns_n.remove('Customer.Lifetime.Value')"
      ]
    },
    {
      "cell_type": "code",
      "execution_count": null,
      "metadata": {
        "id": "7mo_z_4CPM-n"
      },
      "outputs": [],
      "source": [
        "dataconcat.columns"
      ]
    },
    {
      "cell_type": "code",
      "execution_count": null,
      "metadata": {
        "id": "r_NjnEZqN9Lp"
      },
      "outputs": [],
      "source": [
        "numericalcolumns_n.append('Total.Claim.Amount.4')"
      ]
    },
    {
      "cell_type": "code",
      "execution_count": null,
      "metadata": {
        "id": "AMWlf7dmPa4X"
      },
      "outputs": [],
      "source": [
        "numericalcolumns_n.remove('Total.Claim.Amount')"
      ]
    },
    {
      "cell_type": "code",
      "execution_count": null,
      "metadata": {
        "id": "s_JX8ly3PY7Q"
      },
      "outputs": [],
      "source": [
        "numericalcolumns_n"
      ]
    },
    {
      "cell_type": "code",
      "execution_count": null,
      "metadata": {
        "id": "hh7zsImsD1EW"
      },
      "outputs": [],
      "source": [
        "# datafarme_name,numerical_cols\n",
        "def std_scaler(x,y):\n",
        "  for i in y:\n",
        "      s_list=[]\n",
        "      std=np.std(x[i])\n",
        "      mean=np.mean(x[i])\n",
        "      for j in x[i]:\n",
        "          s_list.append((j-mean)/std)\n",
        "      dataconcat['scaled_'+i]=s_list\n",
        "      dataconcat(i,axis=1,inplace=True)\n"
      ]
    },
    {
      "cell_type": "code",
      "execution_count": null,
      "metadata": {
        "id": "IjLVjHjCE16f"
      },
      "outputs": [],
      "source": [
        "std_scaler(dataconcat,numericalcolumns_n)"
      ]
    },
    {
      "cell_type": "code",
      "execution_count": null,
      "metadata": {
        "id": "a85NvCg_Ib90"
      },
      "outputs": [],
      "source": [
        "dataconcat.info()"
      ]
    },
    {
      "cell_type": "code",
      "execution_count": null,
      "metadata": {
        "id": "JSs4dFienX41"
      },
      "outputs": [],
      "source": [
        "# Extract the features and target variable\n",
        "X = dataconcat.drop(['Customer.Lifetime.Value'], axis=1).values\n",
        "y = dataconcat['Customer.Lifetime.Value'].values"
      ]
    },
    {
      "cell_type": "code",
      "source": [
        "train_size = int(0.7* len(X))\n",
        "X_train, X_test = X[:train_size], X[train_size:]\n",
        "y_train, y_test = y[:train_size], y[train_size:]"
      ],
      "metadata": {
        "id": "MwTHyiQeY9tn"
      },
      "execution_count": null,
      "outputs": []
    },
    {
      "cell_type": "code",
      "source": [
        "\n",
        "# Step 4: Define the model parameters\n",
        "lambda_param = 0.01\n",
        "alpha = 0.01\n"
      ],
      "metadata": {
        "id": "4LjE27G5ZDSd"
      },
      "execution_count": null,
      "outputs": []
    },
    {
      "cell_type": "code",
      "source": [
        "# Step 5: Initialize the coefficients\n",
        "coef = np.zeros(X_train.shape[1])\n"
      ],
      "metadata": {
        "id": "I1_M5jtcZHQw"
      },
      "execution_count": null,
      "outputs": []
    },
    {
      "cell_type": "code",
      "source": [
        "# Step 6: Define the cost function\n",
        "def ridge_cost(X, y, coef, lambda_param):\n",
        "    n_samples = X.shape[0]\n",
        "    y_pred = X.dot(coef)\n",
        "    ridge = lambda_param * np.sum(np.square(coef))\n",
        "    cost = (1/(2*n_samples)) * np.sum(np.square(y - y_pred)) + ridge\n",
        "    return cost"
      ],
      "metadata": {
        "id": "My9EhMGiZLJG"
      },
      "execution_count": null,
      "outputs": []
    },
    {
      "cell_type": "code",
      "source": [
        "import numpy as np\n",
        "\n",
        "def ridge_regression(X, y, lambda_param, alpha, n_epochs):\n",
        "    # initialize coefficients to zeros\n",
        "    coef = np.zeros(X.shape[1])\n",
        "    # run gradient descent for n_epochs\n",
        "    for epoch in range(n_epochs):\n",
        "        # calculate predicted values and error\n",
        "        y_pred = X.dot(coef)\n",
        "        error = y_pred - y\n",
        "        # calculate gradient with L2 regularization\n",
        "        gradient = (1/X.shape[0]) * X.T.dot(error) + lambda_param * coef\n",
        "        # update coefficients using gradient descent\n",
        "        coef = coef - alpha * gradient\n",
        "    return coef\n"
      ],
      "metadata": {
        "id": "qrMReyukZRkQ"
      },
      "execution_count": null,
      "outputs": []
    },
    {
      "cell_type": "code",
      "source": [
        "X_test = (X_test - np.mean(X_train, axis=0)) / np.std(X_train, axis=0)\n",
        "y_pred_test = X_test.dot(coef)"
      ],
      "metadata": {
        "id": "B0aq_GKtfbW7"
      },
      "execution_count": null,
      "outputs": []
    },
    {
      "cell_type": "code",
      "source": [
        "# Compute the mean squared error\n",
        "mse = np.mean((y_test - y_pred_test) ** 2)\n",
        "print(\"Mean squared error: {:.2f}\".format(mse))\n"
      ],
      "metadata": {
        "id": "PIKsVgu6uQpZ"
      },
      "execution_count": null,
      "outputs": []
    }
  ],
  "metadata": {
    "colab": {
      "provenance": []
    },
    "kernelspec": {
      "display_name": "Python 3 (ipykernel)",
      "language": "python",
      "name": "python3"
    },
    "language_info": {
      "codemirror_mode": {
        "name": "ipython",
        "version": 3
      },
      "file_extension": ".py",
      "mimetype": "text/x-python",
      "name": "python",
      "nbconvert_exporter": "python",
      "pygments_lexer": "ipython3",
      "version": "3.9.7"
    }
  },
  "nbformat": 4,
  "nbformat_minor": 0
}